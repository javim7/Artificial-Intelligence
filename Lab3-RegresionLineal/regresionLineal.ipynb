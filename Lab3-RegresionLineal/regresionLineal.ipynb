{
 "cells": [
  {
   "cell_type": "code",
   "execution_count": null,
   "metadata": {},
   "outputs": [],
   "source": [
    "# Laboratorio 3 - Regresión Lineal\n",
    "## Autor: Javier Mombiela\n",
    "## Fecha: 07-03-2023\n"
   ]
  }
 ],
 "metadata": {
  "language_info": {
   "name": "python"
  },
  "orig_nbformat": 4
 },
 "nbformat": 4,
 "nbformat_minor": 2
}
